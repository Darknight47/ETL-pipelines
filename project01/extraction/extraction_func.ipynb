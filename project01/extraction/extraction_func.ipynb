{
 "cells": [
  {
   "cell_type": "markdown",
   "metadata": {},
   "source": [
    "### Sourcing and Extracting the data"
   ]
  },
  {
   "cell_type": "code",
   "execution_count": 1,
   "metadata": {},
   "outputs": [],
   "source": [
    "import pandas as pd"
   ]
  },
  {
   "cell_type": "code",
   "execution_count": 3,
   "metadata": {},
   "outputs": [],
   "source": [
    "df_crashes = pd.read_csv(\"../datasets/traffic_crashes.csv\")"
   ]
  },
  {
   "cell_type": "code",
   "execution_count": 6,
   "metadata": {},
   "outputs": [
    {
     "name": "stdout",
     "output_type": "stream",
     "text": [
      "<class 'pandas.core.frame.DataFrame'>\n",
      "RangeIndex: 1000 entries, 0 to 999\n",
      "Data columns (total 49 columns):\n",
      " #   Column                         Non-Null Count  Dtype  \n",
      "---  ------                         --------------  -----  \n",
      " 0   crash_record_id                1000 non-null   object \n",
      " 1   rd_no                          1000 non-null   object \n",
      " 2   crash_date_est_i               69 non-null     object \n",
      " 3   crash_date                     1000 non-null   object \n",
      " 4   posted_speed_limit             1000 non-null   int64  \n",
      " 5   traffic_control_device         1000 non-null   object \n",
      " 6   device_condition               1000 non-null   object \n",
      " 7   weather_condition              1000 non-null   object \n",
      " 8   lighting_condition             1000 non-null   object \n",
      " 9   first_crash_type               1000 non-null   object \n",
      " 10  trafficway_type                1000 non-null   object \n",
      " 11  lane_cnt                       1 non-null      float64\n",
      " 12  alignment                      1000 non-null   object \n",
      " 13  roadway_surface_cond           1000 non-null   object \n",
      " 14  road_defect                    1000 non-null   object \n",
      " 15  report_type                    976 non-null    object \n",
      " 16  crash_type                     1000 non-null   object \n",
      " 17  intersection_related_i         271 non-null    object \n",
      " 18  private_property_i             45 non-null     object \n",
      " 19  hit_and_run_i                  320 non-null    object \n",
      " 20  damage                         1000 non-null   object \n",
      " 21  date_police_notified           1000 non-null   object \n",
      " 22  prim_contributory_cause        1000 non-null   object \n",
      " 23  sec_contributory_cause         1000 non-null   object \n",
      " 24  street_no                      1000 non-null   int64  \n",
      " 25  street_direction               1000 non-null   object \n",
      " 26  street_name                    1000 non-null   object \n",
      " 27  beat_of_occurrence             1000 non-null   int64  \n",
      " 28  photos_taken_i                 15 non-null     object \n",
      " 29  statements_taken_i             22 non-null     object \n",
      " 30  dooring_i                      0 non-null      float64\n",
      " 31  work_zone_i                    4 non-null      object \n",
      " 32  work_zone_type                 3 non-null      object \n",
      " 33  workers_present_i              1 non-null      object \n",
      " 34  num_units                      1000 non-null   int64  \n",
      " 35  most_severe_injury             998 non-null    object \n",
      " 36  injuries_total                 998 non-null    float64\n",
      " 37  injuries_fatal                 998 non-null    float64\n",
      " 38  injuries_incapacitating        998 non-null    float64\n",
      " 39  injuries_non_incapacitating    998 non-null    float64\n",
      " 40  injuries_reported_not_evident  998 non-null    float64\n",
      " 41  injuries_no_indication         998 non-null    float64\n",
      " 42  injuries_unknown               998 non-null    float64\n",
      " 43  crash_hour                     1000 non-null   int64  \n",
      " 44  crash_day_of_week              1000 non-null   int64  \n",
      " 45  crash_month                    1000 non-null   int64  \n",
      " 46  latitude                       987 non-null    float64\n",
      " 47  longitude                      987 non-null    float64\n",
      " 48  location                       987 non-null    object \n",
      "dtypes: float64(11), int64(7), object(31)\n",
      "memory usage: 382.9+ KB\n"
     ]
    }
   ],
   "source": [
    "df_crashes.info()"
   ]
  },
  {
   "cell_type": "code",
   "execution_count": null,
   "metadata": {},
   "outputs": [],
   "source": []
  }
 ],
 "metadata": {
  "kernelspec": {
   "display_name": "Python 3",
   "language": "python",
   "name": "python3"
  },
  "language_info": {
   "codemirror_mode": {
    "name": "ipython",
    "version": 3
   },
   "file_extension": ".py",
   "mimetype": "text/x-python",
   "name": "python",
   "nbconvert_exporter": "python",
   "pygments_lexer": "ipython3",
   "version": "3.12.2"
  }
 },
 "nbformat": 4,
 "nbformat_minor": 2
}
