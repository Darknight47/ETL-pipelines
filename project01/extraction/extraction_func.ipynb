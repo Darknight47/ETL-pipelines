{
 "cells": [
  {
   "cell_type": "markdown",
   "metadata": {},
   "source": [
    "### Sourcing and Extracting the data"
   ]
  },
  {
   "cell_type": "code",
   "execution_count": 1,
   "metadata": {},
   "outputs": [],
   "source": [
    "import pandas as pd"
   ]
  },
  {
   "cell_type": "code",
   "execution_count": 4,
   "metadata": {},
   "outputs": [],
   "source": [
    "def extract_data(filepath: object) -> object:\n",
    "    \"\"\"\n",
    "        input; filepath; str, file path to CSV data\n",
    "        output; pandas dataframe, extracted from CSV data\n",
    "    \"\"\"\n",
    "    try:\n",
    "        df = pd.read_csv(filepath)\n",
    "    except FileNotFoundError:\n",
    "        print(\"File Not Found;\")\n",
    "    except pd.errors.EmptyDataError: \n",
    "        print(\"Error: The file is empty.\")\n",
    "    except Exception as e:\n",
    "        print(f\"Error: {e}\")\n",
    "    \n",
    "    return df"
   ]
  },
  {
   "cell_type": "code",
   "execution_count": 5,
   "metadata": {},
   "outputs": [
    {
     "name": "stdout",
     "output_type": "stream",
     "text": [
      "DF Crashes:  (1000, 49)\n"
     ]
    }
   ],
   "source": [
    "df_crashes = extract_data(\"../datasets/traffic_crashes.csv\")\n",
    "print(\"DF Crashes: \", df_crashes.shape)"
   ]
  },
  {
   "cell_type": "markdown",
   "metadata": {},
   "source": [
    "### Transformation and data cleansing"
   ]
  },
  {
   "cell_type": "code",
   "execution_count": 6,
   "metadata": {},
   "outputs": [],
   "source": [
    "def transform_data(df: object) -> object:\n",
    "    \"\"\"\n",
    "    input: df; pandas dataframe, extracted data\n",
    "    output: df; pandas dataframe, transformed data\n",
    "    \"\"\"\n",
    "    # Dropping duplicate rows\n",
    "    df = df.drop_duplicates()\n",
    "\n",
    "    # Dealing with missing values by replacing them by the mean of the column.\n",
    "    df.fillna(df.mean(), inplace=True)\n",
    "\n",
    "    # Some columns needs to be converted to appropriate data types\n",
    "    try:\n",
    "        df['CRASH_DATE'] = pd.to_datetime(df['CRASH_DATE'], format=\"%m%d%Y\")\n",
    "    except:\n",
    "        pass\n",
    "    try:\n",
    "        df['POSTED_SPEED_LIMIT'] = df['POSTED_SPEED_LIMIT'].astype('int32')\n",
    "    except:\n",
    "        pass\n",
    "\n",
    "    return df"
   ]
  }
 ],
 "metadata": {
  "kernelspec": {
   "display_name": "Python 3",
   "language": "python",
   "name": "python3"
  },
  "language_info": {
   "codemirror_mode": {
    "name": "ipython",
    "version": 3
   },
   "file_extension": ".py",
   "mimetype": "text/x-python",
   "name": "python",
   "nbconvert_exporter": "python",
   "pygments_lexer": "ipython3",
   "version": "3.12.2"
  }
 },
 "nbformat": 4,
 "nbformat_minor": 2
}
